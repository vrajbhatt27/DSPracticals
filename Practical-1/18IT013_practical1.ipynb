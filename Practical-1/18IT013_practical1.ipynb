{
  "nbformat": 4,
  "nbformat_minor": 0,
  "metadata": {
    "kernelspec": {
      "display_name": "Python 3",
      "language": "python",
      "name": "python3"
    },
    "language_info": {
      "codemirror_mode": {
        "name": "ipython",
        "version": 3
      },
      "file_extension": ".py",
      "mimetype": "text/x-python",
      "name": "python",
      "nbconvert_exporter": "python",
      "pygments_lexer": "ipython3",
      "version": "3.8.5"
    },
    "colab": {
      "name": "practical1.ipynb",
      "provenance": []
    }
  },
  "cells": [
    {
      "cell_type": "code",
      "metadata": {
        "id": "CrGEZZczCtbz"
      },
      "source": [
        "from selenium import webdriver\n",
        "from bs4 import BeautifulSoup\n",
        "import pandas as pd\n",
        "import requests"
      ],
      "execution_count": 3,
      "outputs": []
    },
    {
      "cell_type": "code",
      "metadata": {
        "colab": {
          "base_uri": "https://localhost:8080/"
        },
        "id": "qVCIMhBkCzmb",
        "outputId": "938568ff-9bac-4c43-ff4f-fb6154de5689"
      },
      "source": [
        "pip install selenium"
      ],
      "execution_count": 4,
      "outputs": [
        {
          "output_type": "stream",
          "name": "stdout",
          "text": [
            "Requirement already satisfied: selenium in /usr/local/lib/python3.7/dist-packages (3.141.0)\n",
            "Requirement already satisfied: urllib3 in /usr/local/lib/python3.7/dist-packages (from selenium) (1.24.3)\n"
          ]
        }
      ]
    },
    {
      "cell_type": "code",
      "metadata": {
        "id": "4WoJegbjCtb3"
      },
      "source": [
        "url=\"https://www.flipkart.com/search?q=phones&otracker=search&otracker1=search&marketplace=FLIPKART&as-show=on&as=off\"\n",
        "response = requests.get(url)\n",
        "htmlcontent = response.content\n",
        "soup = BeautifulSoup(htmlcontent,\"html.parser\")"
      ],
      "execution_count": 5,
      "outputs": []
    },
    {
      "cell_type": "code",
      "metadata": {
        "colab": {
          "base_uri": "https://localhost:8080/"
        },
        "id": "RQcnv35CCtb4",
        "outputId": "074b9595-2fd8-46bc-d9ec-4453e3c8a7fe"
      },
      "source": [
        "products=[]\n",
        "prices=[]\n",
        "product=soup.find('div',attrs={'class':'_4rR01T'})\n",
        "print(product.text)"
      ],
      "execution_count": 6,
      "outputs": [
        {
          "output_type": "stream",
          "name": "stdout",
          "text": [
            "realme C21 (Cross Black, 64 GB)\n"
          ]
        }
      ]
    },
    {
      "cell_type": "code",
      "metadata": {
        "id": "Qu6ulPT8Ctb6"
      },
      "source": [
        "for a in soup.findAll('a', attrs={'class':'_1fQZEK'}):\n",
        "  name=a.find('div',attrs={'class':'_4rR01T'})\n",
        "  price=a.find('div',attrs={'class':'_30jeq3 _1_WHN1'})\n",
        "  products.append(name.text)\n",
        "  prices.append(price.text)"
      ],
      "execution_count": 7,
      "outputs": []
    },
    {
      "cell_type": "code",
      "metadata": {
        "id": "wC7NzhrACtb6"
      },
      "source": [
        "final=[]\n",
        "for i in prices:\n",
        "    i=i[1:]\n",
        "    final.append(i)"
      ],
      "execution_count": 8,
      "outputs": []
    },
    {
      "cell_type": "code",
      "metadata": {
        "colab": {
          "base_uri": "https://localhost:8080/",
          "height": 204
        },
        "id": "mytCl1k5Ctb7",
        "outputId": "8fefbdb0-2b8e-452e-ae72-4709036c2b8e"
      },
      "source": [
        "df = pd.DataFrame({'Product Name':products,'Prices':final})\n",
        "df.head()"
      ],
      "execution_count": 9,
      "outputs": [
        {
          "output_type": "execute_result",
          "data": {
            "text/html": [
              "<div>\n",
              "<style scoped>\n",
              "    .dataframe tbody tr th:only-of-type {\n",
              "        vertical-align: middle;\n",
              "    }\n",
              "\n",
              "    .dataframe tbody tr th {\n",
              "        vertical-align: top;\n",
              "    }\n",
              "\n",
              "    .dataframe thead th {\n",
              "        text-align: right;\n",
              "    }\n",
              "</style>\n",
              "<table border=\"1\" class=\"dataframe\">\n",
              "  <thead>\n",
              "    <tr style=\"text-align: right;\">\n",
              "      <th></th>\n",
              "      <th>Product Name</th>\n",
              "      <th>Prices</th>\n",
              "    </tr>\n",
              "  </thead>\n",
              "  <tbody>\n",
              "    <tr>\n",
              "      <th>0</th>\n",
              "      <td>realme C21 (Cross Black, 64 GB)</td>\n",
              "      <td>9,999</td>\n",
              "    </tr>\n",
              "    <tr>\n",
              "      <th>1</th>\n",
              "      <td>realme C21 (Cross Blue, 64 GB)</td>\n",
              "      <td>9,999</td>\n",
              "    </tr>\n",
              "    <tr>\n",
              "      <th>2</th>\n",
              "      <td>realme C21 (Cross Blue, 32 GB)</td>\n",
              "      <td>8,999</td>\n",
              "    </tr>\n",
              "    <tr>\n",
              "      <th>3</th>\n",
              "      <td>realme C21 (Cross Black, 32 GB)</td>\n",
              "      <td>8,999</td>\n",
              "    </tr>\n",
              "    <tr>\n",
              "      <th>4</th>\n",
              "      <td>OPPO A53 (Moonlight Black, 64 GB)</td>\n",
              "      <td>10,990</td>\n",
              "    </tr>\n",
              "  </tbody>\n",
              "</table>\n",
              "</div>"
            ],
            "text/plain": [
              "                        Product Name  Prices\n",
              "0    realme C21 (Cross Black, 64 GB)   9,999\n",
              "1     realme C21 (Cross Blue, 64 GB)   9,999\n",
              "2     realme C21 (Cross Blue, 32 GB)   8,999\n",
              "3    realme C21 (Cross Black, 32 GB)   8,999\n",
              "4  OPPO A53 (Moonlight Black, 64 GB)  10,990"
            ]
          },
          "metadata": {},
          "execution_count": 9
        }
      ]
    },
    {
      "cell_type": "code",
      "metadata": {
        "id": "epo8JyCoCtb7"
      },
      "source": [
        "df.to_csv('data.csv', index=False, encoding='utf-8')"
      ],
      "execution_count": 11,
      "outputs": []
    }
  ]
}