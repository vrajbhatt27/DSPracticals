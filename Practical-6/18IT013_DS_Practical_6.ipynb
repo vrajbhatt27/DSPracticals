{
  "nbformat": 4,
  "nbformat_minor": 0,
  "metadata": {
    "colab": {
      "name": "18IT013_DS_Practical-6.ipynb",
      "provenance": []
    },
    "kernelspec": {
      "name": "python3",
      "display_name": "Python 3"
    },
    "language_info": {
      "name": "python"
    }
  },
  "cells": [
    {
      "cell_type": "code",
      "metadata": {
        "id": "hy3QbSERS6Lr"
      },
      "source": [
        "import Orange "
      ],
      "execution_count": 12,
      "outputs": []
    },
    {
      "cell_type": "code",
      "metadata": {
        "colab": {
          "base_uri": "https://localhost:8080/"
        },
        "id": "SkNC1g_yU2Sl",
        "outputId": "8a3f6098-75e2-4677-c7bb-be0e97f7c750"
      },
      "source": [
        "##Discretization\n",
        "brown = Orange.data.Table(\"iris.tab\")\n",
        "disc = Orange.preprocess.Discretize()\n",
        "disc.method = Orange.preprocess.discretize.EqualFreq(n=3)\n",
        "d_brown = disc(brown)\n",
        "\n",
        "print(\"Original dataset:\")\n",
        "for e in brown[:3]:\n",
        "    print(e)\n",
        "\n",
        "print(\"Discretized dataset:\")\n",
        "for e in d_brown[:3]:\n",
        "    print(e)"
      ],
      "execution_count": 14,
      "outputs": [
        {
          "output_type": "stream",
          "name": "stdout",
          "text": [
            "Original dataset:\n",
            "[5.1, 3.5, 1.4, 0.2 | Iris-setosa]\n",
            "[4.9, 3.0, 1.4, 0.2 | Iris-setosa]\n",
            "[4.7, 3.2, 1.3, 0.2 | Iris-setosa]\n",
            "Discretized dataset:\n",
            "[< 5.45, ≥ 3.15, < 2.45, < 0.8 | Iris-setosa]\n",
            "[< 5.45, 2.85 - 3.15, < 2.45, < 0.8 | Iris-setosa]\n",
            "[< 5.45, ≥ 3.15, < 2.45, < 0.8 | Iris-setosa]\n"
          ]
        }
      ]
    },
    {
      "cell_type": "code",
      "metadata": {
        "colab": {
          "base_uri": "https://localhost:8080/"
        },
        "id": "IaHo8QkdVkfS",
        "outputId": "92fe54fe-57f5-4334-a9d0-0e04dcfd5f18"
      },
      "source": [
        "#Continuization\n",
        "titanic = Orange.data.Table(\"titanic\")\n",
        "continuizer = Orange.preprocess.Continuize()\n",
        "titanic1 = continuizer(titanic)\n",
        "\n",
        "print(\"Before Continuization:\\n\",titanic.domain)\n",
        "print(\"After Continuization:\\n\",titanic1.domain)\n",
        "\n",
        "\n",
        "#Look at specific data of row 10 in the table before and after continuization\n",
        "print(\"10th row data before: \",titanic[10])\n",
        "print(\"10th row data after: \",titanic1[10])"
      ],
      "execution_count": 15,
      "outputs": [
        {
          "output_type": "stream",
          "name": "stdout",
          "text": [
            "Before Continuization:\n",
            " [status, age, sex | survived]\n",
            "After Continuization:\n",
            " [status=crew, status=first, status=second, status=third, age=adult, age=child, sex=female, sex=male | survived]\n",
            "10th row data before:  [first, adult, male | yes]\n",
            "10th row data after:  [0, 1, 0, 0, 1, 0, 0, 1 | yes]\n"
          ]
        }
      ]
    },
    {
      "cell_type": "code",
      "metadata": {
        "colab": {
          "base_uri": "https://localhost:8080/"
        },
        "id": "_wjImUGmWDQV",
        "outputId": "616c8520-70a3-4dc6-fe4c-7e9edb9daa2f"
      },
      "source": [
        "#Normalization\n",
        "from Orange.preprocess import Normalize\n",
        "normalizer = Normalize(norm_type=Normalize.NormalizeBySpan)\n",
        "normalized_data = normalizer(brown)\n",
        "print(\"Before Normalization: \",brown[2])\n",
        "print(\"After noramlization: \",normalized_data[2])"
      ],
      "execution_count": 16,
      "outputs": [
        {
          "output_type": "stream",
          "name": "stdout",
          "text": [
            "Before Normalization:  [4.7, 3.2, 1.3, 0.2 | Iris-setosa]\n",
            "After noramlization:  [0.1111, 0.50, 0.0508, 0.0417 | Iris-setosa]\n"
          ]
        }
      ]
    },
    {
      "cell_type": "code",
      "metadata": {
        "colab": {
          "base_uri": "https://localhost:8080/"
        },
        "id": "AKztNZ8-WNJS",
        "outputId": "fd9c8b2f-7c57-4aa9-a2be-2cad9fbd9e1c"
      },
      "source": [
        "#Randomization\n",
        "from Orange.preprocess import Randomize\n",
        "randomizer = Randomize(Randomize.RandomizeClasses)\n",
        "randomized_data = randomizer(brown)\n",
        "print(\"Before Randomization: \",brown[2])\n",
        "print(\"After Randomization: \",randomized_data[2])"
      ],
      "execution_count": 17,
      "outputs": [
        {
          "output_type": "stream",
          "name": "stdout",
          "text": [
            "Before Randomization:  [4.7, 3.2, 1.3, 0.2 | Iris-setosa]\n",
            "After Randomization:  [4.7, 3.2, 1.3, 0.2 | Iris-setosa]\n"
          ]
        }
      ]
    }
  ]
}